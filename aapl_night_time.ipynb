{
 "cells": [
  {
   "cell_type": "code",
   "execution_count": 1,
   "metadata": {
    "collapsed": true
   },
   "outputs": [],
   "source": [
    "import pandas as pd\n",
    "import numpy as np\n",
    "import seaborn as sns\n",
    "import matplotlib.pyplot as plt\n",
    "import matplotlib\n",
    "from datetime import datetime\n",
    "%matplotlib inline"
   ]
  },
  {
   "cell_type": "code",
   "execution_count": 3,
   "metadata": {},
   "outputs": [
    {
     "data": {
      "text/html": [
       "<div>\n",
       "<style>\n",
       "    .dataframe thead tr:only-child th {\n",
       "        text-align: right;\n",
       "    }\n",
       "\n",
       "    .dataframe thead th {\n",
       "        text-align: left;\n",
       "    }\n",
       "\n",
       "    .dataframe tbody tr th {\n",
       "        vertical-align: top;\n",
       "    }\n",
       "</style>\n",
       "<table border=\"1\" class=\"dataframe\">\n",
       "  <thead>\n",
       "    <tr style=\"text-align: right;\">\n",
       "      <th></th>\n",
       "      <th>date</th>\n",
       "      <th>close</th>\n",
       "      <th>volume</th>\n",
       "      <th>open</th>\n",
       "      <th>high</th>\n",
       "      <th>low</th>\n",
       "      <th>day</th>\n",
       "    </tr>\n",
       "  </thead>\n",
       "  <tbody>\n",
       "    <tr>\n",
       "      <th>2518</th>\n",
       "      <td>2008/05/29</td>\n",
       "      <td>26.6700</td>\n",
       "      <td>161597008.0000</td>\n",
       "      <td>26.6800</td>\n",
       "      <td>26.8857</td>\n",
       "      <td>26.5000</td>\n",
       "      <td>-0.0100</td>\n",
       "    </tr>\n",
       "    <tr>\n",
       "      <th>2517</th>\n",
       "      <td>2008/05/30</td>\n",
       "      <td>26.9643</td>\n",
       "      <td>151904176.0000</td>\n",
       "      <td>26.7786</td>\n",
       "      <td>27.0771</td>\n",
       "      <td>26.7686</td>\n",
       "      <td>0.1857</td>\n",
       "    </tr>\n",
       "    <tr>\n",
       "      <th>2516</th>\n",
       "      <td>2008/06/02</td>\n",
       "      <td>26.5857</td>\n",
       "      <td>169720581.0000</td>\n",
       "      <td>26.9428</td>\n",
       "      <td>27.0928</td>\n",
       "      <td>26.3614</td>\n",
       "      <td>-0.3571</td>\n",
       "    </tr>\n",
       "    <tr>\n",
       "      <th>2515</th>\n",
       "      <td>2008/06/03</td>\n",
       "      <td>26.4814</td>\n",
       "      <td>187602996.0000</td>\n",
       "      <td>26.6943</td>\n",
       "      <td>26.8857</td>\n",
       "      <td>26.0479</td>\n",
       "      <td>-0.2129</td>\n",
       "    </tr>\n",
       "    <tr>\n",
       "      <th>2514</th>\n",
       "      <td>2008/06/04</td>\n",
       "      <td>26.4557</td>\n",
       "      <td>181706405.0000</td>\n",
       "      <td>26.2886</td>\n",
       "      <td>26.7271</td>\n",
       "      <td>26.1757</td>\n",
       "      <td>0.1671</td>\n",
       "    </tr>\n",
       "  </tbody>\n",
       "</table>\n",
       "</div>"
      ],
      "text/plain": [
       "            date    close          volume     open     high      low     day\n",
       "2518  2008/05/29  26.6700  161597008.0000  26.6800  26.8857  26.5000 -0.0100\n",
       "2517  2008/05/30  26.9643  151904176.0000  26.7786  27.0771  26.7686  0.1857\n",
       "2516  2008/06/02  26.5857  169720581.0000  26.9428  27.0928  26.3614 -0.3571\n",
       "2515  2008/06/03  26.4814  187602996.0000  26.6943  26.8857  26.0479 -0.2129\n",
       "2514  2008/06/04  26.4557  181706405.0000  26.2886  26.7271  26.1757  0.1671"
      ]
     },
     "execution_count": 3,
     "metadata": {},
     "output_type": "execute_result"
    }
   ],
   "source": [
    "filepath = '../../Downloads/HistoricalQuotes (1).csv'\n",
    "df = pd.read_csv(filepath)\n",
    "df = df.iloc[::-1]\n",
    "df['day'] = df['close'] - df['open']\n",
    "df.head()\n",
    "\n"
   ]
  },
  {
   "cell_type": "code",
   "execution_count": 4,
   "metadata": {},
   "outputs": [
    {
     "data": {
      "image/png": "[encoded data removed]",
      "text/plain": [
       "<matplotlib.figure.Figure at 0x107917c88>"
      ]
     },
     "metadata": {},
     "output_type": "display_data"
    }
   ],
   "source": [
    "df['open_of_next_day'] = df.open.shift(-1)\n",
    "\n",
    "df['night'] = df['open_of_next_day'] - df['close']\n",
    "\n",
    "df['hold'] = df['open_of_next_day'] - df['open']\n",
    "\n",
    "df['date'] = pd.to_datetime(df['date'])\n",
    "\n",
    "\n",
    "\n",
    "x = df['date']\n",
    "\n",
    "df['cum_day'] = df.day.cumsum()\n",
    "\n",
    "df['cum_night'] = df.night.cumsum()\n",
    "\n",
    "df['cum_hold'] = df.hold.cumsum()\n",
    "\n",
    "x = df['date']\n",
    "\n",
    "y1 = df['cum_hold']\n",
    "y2 = df['cum_night']\n",
    "y3 = df['cum_day']\n",
    "\n",
    "\n",
    "\n",
    "\n",
    "\n",
    "plt.plot(x, y2, 'g', label='Night trading')\n",
    "plt.plot(x, y1, 'b', label='Normal Performance')\n",
    "plt.plot(x, y3, 'r', label='Day trading')\n",
    "plt.legend()\n",
    "plt.show()"
   ]
  },
  {
   "cell_type": "code",
   "execution_count": null,
   "metadata": {
    "collapsed": true
   },
   "outputs": [],
   "source": []
  }
 ],
 "metadata": {
  "kernelspec": {
   "display_name": "Python 3",
   "language": "python",
   "name": "python3"
  },
  "language_info": {
   "codemirror_mode": {
    "name": "ipython",
    "version": 3
   },
   "file_extension": ".py",
   "mimetype": "text/x-python",
   "name": "python",
   "nbconvert_exporter": "python",
   "pygments_lexer": "ipython3",
   "version": "3.6.3"
  }
 },
 "nbformat": 4,
 "nbformat_minor": 2
}
